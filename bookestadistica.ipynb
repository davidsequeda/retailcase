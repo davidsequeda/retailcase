{
 "cells": [
  {
   "cell_type": "code",
   "execution_count": 11,
   "id": "a66cc774",
   "metadata": {},
   "outputs": [],
   "source": [
    "#la probabilidad es denifida cuando se sabe las opciones de resultados.\n",
    "#las medidas de variabilidad y tendencia centrar son para datos estructurados que ya están recolectados.\n",
    "#qué tan cierot es lo siguiente: más conocimiento mejores decisiones \n",
    "    "
   ]
  },
  {
   "cell_type": "code",
   "execution_count": 12,
   "id": "7794d9ff",
   "metadata": {},
   "outputs": [
    {
     "name": "stdout",
     "output_type": "stream",
     "text": [
      "1.7511900715418263\n"
     ]
    }
   ],
   "source": [
    "import statistics as stat\n",
    "import numpy as np\n",
    "import matplotlib.pyplot as plt\n",
    "\n",
    "n=10\n",
    "mediciones=[5,2,3,6,1,2,4,5,1,3]\n",
    "desv=stat.stdev(mediciones)\n",
    "print(desv)"
   ]
  },
  {
   "cell_type": "code",
   "execution_count": 13,
   "id": "e0628326",
   "metadata": {},
   "outputs": [
    {
     "name": "stdout",
     "output_type": "stream",
     "text": [
      "21.608\n"
     ]
    },
    {
     "data": {
      "image/png": "[encoded data removed]",
      "text/plain": [
       "<Figure size 640x480 with 1 Axes>"
      ]
     },
     "metadata": {},
     "output_type": "display_data"
    }
   ],
   "source": [
    "datos=[26.1, 26.0, 14.5, 29.3, 19.7,\n",
    "22.1, 21.2, 26.6, 31.9, 25.0,\n",
    "15.9, 20.8, 20.2, 17.8, 13.3,\n",
    "25.6, 26.5, 15.7, 22.1, 13.8,\n",
    "29.0, 21.3, 23.5, 22.1, 10.2]\n",
    "\n",
    "\n",
    "men=stat.mean(datos)\n",
    "plt.hist(datos)\n",
    "print(men)"
   ]
  },
  {
   "cell_type": "code",
   "execution_count": null,
   "id": "ae88d1da",
   "metadata": {},
   "outputs": [],
   "source": []
  }
 ],
 "metadata": {
  "kernelspec": {
   "display_name": "Python 3 (ipykernel)",
   "language": "python",
   "name": "python3"
  },
  "language_info": {
   "codemirror_mode": {
    "name": "ipython",
    "version": 3
   },
   "file_extension": ".py",
   "mimetype": "text/x-python",
   "name": "python",
   "nbconvert_exporter": "python",
   "pygments_lexer": "ipython3",
   "version": "3.11.5"
  }
 },
 "nbformat": 4,
 "nbformat_minor": 5
}
