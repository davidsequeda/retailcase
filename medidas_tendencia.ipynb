{
 "cells": [
  {
   "cell_type": "markdown",
   "id": "0662f37e",
   "metadata": {},
   "source": [
    "# MEDIDAS DE TENDENCIA CENTRAL. DESCRIPCIÓN DE DATOS CON MEDIDAS NUMÉRICAS"
   ]
  },
  {
   "cell_type": "markdown",
   "id": "2fdcba61",
   "metadata": {},
   "source": [
    "Las gráficas son sumamente últiles para la descripción visual de conjuntos de datos, pero no siempre son la mejor herramietna cuando se desea hacer inferencias acerca de una población a partir de la información contenida en una muetra. Para este propósito, es mejor usar medidas numéricas para construir una imagen mental de los datos "
   ]
  },
  {
   "cell_type": "code",
   "execution_count": null,
   "id": "e40945ac",
   "metadata": {},
   "outputs": [],
   "source": []
  }
 ],
 "metadata": {
  "kernelspec": {
   "display_name": "Python 3 (ipykernel)",
   "language": "python",
   "name": "python3"
  },
  "language_info": {
   "codemirror_mode": {
    "name": "ipython",
    "version": 3
   },
   "file_extension": ".py",
   "mimetype": "text/x-python",
   "name": "python",
   "nbconvert_exporter": "python",
   "pygments_lexer": "ipython3",
   "version": "3.11.5"
  }
 },
 "nbformat": 4,
 "nbformat_minor": 5
}
